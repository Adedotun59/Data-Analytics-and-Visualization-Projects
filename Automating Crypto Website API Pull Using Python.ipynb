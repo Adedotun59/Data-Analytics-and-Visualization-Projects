{
 "cells": [
  {
   "cell_type": "code",
   "execution_count": 6,
   "id": "70cbe983",
   "metadata": {},
   "outputs": [],
   "source": [
    "# Import necessary modules from the requests library for handling HTTP requests and exceptions\n",
    "from requests import Request, Session\n",
    "from requests.exceptions import ConnectionError, Timeout, TooManyRedirects\n",
    "import json  # Import the json module to work with JSON data\n",
    "\n",
    "# URL for the CoinMarketCap API to get the latest cryptocurrency listings\n",
    "# Note: This is the production API URL; for testing, you could use the sandbox environment: \n",
    "# 'https://sandbox-api.coinmarketcap.com/v1/cryptocurrency/listings/latest'\n",
    "url = 'https://pro-api.coinmarketcap.com/v1/cryptocurrency/listings/latest'\n",
    "\n",
    "# Define the parameters for the API request, including starting at the first cryptocurrency,\n",
    "# limiting the results to 15 cryptocurrencies, and converting prices to USD\n",
    "parameters = {\n",
    "  'start': '1',\n",
    "  'limit': '15',\n",
    "  'convert': 'USD'\n",
    "}\n",
    "\n",
    "# Define the headers for the API request, including the Accept header to expect JSON responses\n",
    "# and the API key for authentication (replace with your actual API key)\n",
    "headers = {\n",
    "  'Accepts': 'application/json',\n",
    "  'X-CMC_PRO_API_KEY': '0ad53085-1cb2-4eb8-ad9e-3ffbd7e56509',\n",
    "}\n",
    "\n",
    "# Create a session object to manage and reuse settings (like headers) across requests\n",
    "session = Session()\n",
    "session.headers.update(headers)  # Update the session headers with the required API key\n",
    "\n",
    "try:\n",
    "  # Send a GET request to the CoinMarketCap API with the specified URL, parameters, and headers\n",
    "  response = session.get(url, params=parameters)\n",
    "  \n",
    "  # Parse the JSON response from the API and store it in the 'data' variable\n",
    "  data = json.loads(response.text)\n",
    "  \n",
    "  # Uncomment the line below to print the retrieved data for inspection\n",
    "  # print(data)\n",
    "\n",
    "# Handle possible exceptions: ConnectionError, Timeout, and TooManyRedirects\n",
    "except (ConnectionError, Timeout, TooManyRedirects) as e:\n",
    "  # Print the error if any of these exceptions occur\n",
    "  print(e)\n",
    "\n",
    "# NOTE:\n",
    "# If you encounter issues pulling data in Jupyter Notebook, try changing the data rate limit\n",
    "# by entering \"jupyter notebook --NotebookApp.iopub_data_rate_limit=1e10\" in the Anaconda Prompt.\n",
    "\n",
    "# If this doesn't work, try using the local host URL as shown in the tutorial video."
   ]
  },
  {
   "cell_type": "code",
   "execution_count": 63,
   "id": "31bdff98",
   "metadata": {},
   "outputs": [],
   "source": [
    "# Check and display the data type of the variable 'data'\n",
    "# This is useful to confirm that the response has been successfully parsed into a Python data structure (e.g., a dictionary)\n",
    "type(data)"
   ]
  },
  {
   "cell_type": "code",
   "execution_count": 18,
   "id": "4cbf82ee",
   "metadata": {},
   "outputs": [],
   "source": [
    "# Import the pandas library for data analysis and manipulation\n",
    "import pandas as pd\n",
    "\n",
    "# This allows you to display all columns and rows when printing a DataFrame, instead of the default limited view.\n",
    "# By setting 'display.max_columns' to None, pandas will show all columns without truncation.\n",
    "pd.set_option('display.max_columns', None)\n",
    "\n",
    "# Similarly, by setting 'display.max_rows' to None, pandas will show all rows of the DataFrame without truncation.\n",
    "pd.set_option('display.max_rows', None)"
   ]
  },
  {
   "cell_type": "code",
   "execution_count": 64,
   "id": "48c3b340",
   "metadata": {},
   "outputs": [],
   "source": [
    "# This normalizes the JSON data and converts it into a flat, tabular format, which is easier to work with in a DataFrame\n",
    "# 'data['data']' refers to the key where the relevant cryptocurrency information is stored in the API response\n",
    "df = pd.json_normalize(data['data'])\n",
    "\n",
    "# Add a new column 'timestamp' to the DataFrame with the current date and time for each row, \n",
    "# to track when the data was retrieved\n",
    "df['timestamp'] = pd.to_datetime('now')\n",
    "\n",
    "# Display the DataFrame\n",
    "df"
   ]
  },
  {
   "cell_type": "code",
   "execution_count": 60,
   "id": "d792e388",
   "metadata": {},
   "outputs": [],
   "source": [
    "\n",
    "# Define a function 'api_runner' to retrieve and process data from the CoinMarketCap API\n",
    "def api_runner():\n",
    "    global df  # Use the global 'df' DataFrame to allow appending new data across multiple function calls\n",
    "    \n",
    "    # API URL for the CoinMarketCap latest cryptocurrency listings\n",
    "    url = 'https://pro-api.coinmarketcap.com/v1/cryptocurrency/listings/latest'\n",
    "    # For testing, you can use the sandbox environment URL: 'https://sandbox-api.coinmarketcap.com/v1/cryptocurrency/listings/latest'\n",
    "    \n",
    "    # Parameters for the API request, specifying to retrieve the first 15 cryptocurrencies and convert prices to USD\n",
    "    parameters = {\n",
    "      'start': '1',\n",
    "      'limit': '15',\n",
    "      'convert': 'USD'\n",
    "    }\n",
    "    \n",
    "    # Headers including the API key for authentication and setting the expected response format to JSON\n",
    "    headers = {\n",
    "      'Accepts': 'application/json',\n",
    "      'X-CMC_PRO_API_KEY': '0ad53085-1cb2-4eb8-ad9e-3ffbd7e56509',  # Replace with your actual API key\n",
    "    }\n",
    "\n",
    "    # Create a session to manage and reuse settings (like headers) across requests\n",
    "    session = Session()\n",
    "    session.headers.update(headers)\n",
    "\n",
    "    try:\n",
    "        # Send the GET request to the API and retrieve the response data\n",
    "        response = session.get(url, params=parameters)\n",
    "        \n",
    "        # Parse the response text (JSON format) into a Python dictionary\n",
    "        data = json.loads(response.text)\n",
    "        # Uncomment to print the data for debugging or inspection\n",
    "        # print(data)\n",
    "    \n",
    "    # Handle potential errors such as connection issues, timeouts, or too many redirects\n",
    "    except (ConnectionError, Timeout, TooManyRedirects) as e:\n",
    "        print(e)\n",
    "\n",
    "    # NOTE:\n",
    "    # If you're using Jupyter Notebook and encounter issues pulling data, try changing the data rate limit\n",
    "    # by running \"jupyter notebook --NotebookApp.iopub_data_rate_limit=1e10\" in the Anaconda Prompt.\n",
    "    \n",
    "    # Normalize the JSON data and flatten it into a tabular format (DataFrame) for easy manipulation\n",
    "    # Add a timestamp to track when the data was retrieved\n",
    "    df2 = pd.json_normalize(data['data'])\n",
    "    df2['Timestamp'] = pd.to_datetime('now')\n",
    "\n",
    "    # Append the new data to the global 'df' DataFrame for continuous data collection\n",
    "    df = df.append(df2)\n",
    "\n",
    "    # Uncomment the following lines if you want to save the data to a CSV file\n",
    "    # Check if the CSV file exists; if not, create it and write the header\n",
    "    # if not os.path.isfile(r'/Users/emmanuelalade/Documents/Data Analytics Project/Python/API.csv'):\n",
    "    #     df.to_csv(r'/Users/emmanuelalade/Documents/Data Analytics Project/Python/API.csv', header='column_names')\n",
    "    # else:\n",
    "    #     # If the file exists, append the new data without writing the header again\n",
    "    #     df.to_csv(r'/Users/emmanuelalade/Documents/Data Analytics Project/Python/API.csv', mode='a', header=False)\n",
    "    \n",
    "    # To read the CSV data back into a DataFrame, you can use the following line:\n",
    "    # df = pd.read_csv(r'/Users/emmanuelalade/Documents/Data Analytics Project/Python/API.csv')\n",
    "\n",
    "# If data retrieval doesn't work as expected, you can try using the local host URL as shown in the tutorial video."
   ]
  },
  {
   "cell_type": "code",
   "execution_count": 67,
   "id": "9e272cea",
   "metadata": {},
   "outputs": [],
   "source": [
    "# Import the os module for interacting with the operating system and the time module for timing operations\n",
    "import os\n",
    "from time import time  # Import time function to measure or track time (if needed)\n",
    "from time import sleep  # Import sleep function to pause execution for a specified duration\n",
    "\n",
    "# Loop to run the 'api_runner' function 333 times (i.e., collect data 333 times)\n",
    "for i in range(333):\n",
    "    api_runner()  # Call the function to retrieve and process data from the API\n",
    "    print('API Runner completed')  # Print a message each time the API call is completed\n",
    "\n",
    "    # Pause execution for 60 seconds (1 minute) before making the next API call\n",
    "    sleep(60)\n",
    "\n",
    "# Exit the script after all iterations are completed\n",
    "exit()"
   ]
  },
  {
   "cell_type": "code",
   "execution_count": 68,
   "id": "bf9a55d9",
   "metadata": {},
   "outputs": [],
   "source": [
    "# Read the CSV file containing the previously collected API data into a pandas DataFrame\n",
    "df72 = pd.read_csv(r'/Users/emmanuelalade/Documents/Data Analytics Project/Python/API.csv')\n",
    "\n",
    "# Display the DataFrame to view the content of the CSV file\n",
    "df72"
   ]
  },
  {
   "cell_type": "code",
   "execution_count": 69,
   "id": "8902053b",
   "metadata": {},
   "outputs": [],
   "source": [
    "# Display the contents of the DataFrame 'df'\n",
    "# This shows the data currently stored in the DataFrame, often used for inspection or debugging\n",
    "df"
   ]
  },
  {
   "cell_type": "code",
   "execution_count": 22,
   "id": "b7c56101",
   "metadata": {},
   "outputs": [],
   "source": [
    "# Set the display option for pandas to format floating-point numbers with 5 decimal places, \n",
    "# rather than using scientific notation (which is the default for very large or small numbers)\n",
    "pd.set_option('display.float_format', lambda x: '%.5f' % x)"
   ]
  },
  {
   "cell_type": "code",
   "execution_count": 70,
   "id": "56b5a577",
   "metadata": {},
   "outputs": [],
   "source": [
    "# Display the contents of the DataFrame 'df'\n",
    "# This shows the data currently stored in the DataFrame, often used for inspection or debugging\n",
    "df"
   ]
  },
  {
   "cell_type": "code",
   "execution_count": 71,
   "id": "e4227c53",
   "metadata": {},
   "outputs": [],
   "source": [
    "# Now let's look at the coin trends over time\n",
    "\n",
    "# Group the DataFrame 'df' by the 'name' of each cryptocurrency and calculate the mean of the percent change \n",
    "# over various time intervals: 1 hour, 24 hours, 7 days, 30 days, 60 days, and 90 days. \n",
    "# This gives an average performance of each cryptocurrency over these time periods.\n",
    "df3 = df.groupby('name', sort=False)[['quote.USD.percent_change_1h',\n",
    "                                      'quote.USD.percent_change_24h',\n",
    "                                      'quote.USD.percent_change_7d',\n",
    "                                      'quote.USD.percent_change_30d',\n",
    "                                      'quote.USD.percent_change_60d',\n",
    "                                      'quote.USD.percent_change_90d']].mean()\n",
    "\n",
    "# Display the resulting DataFrame, 'df3', to see the average percent changes for each cryptocurrency.\n",
    "df3"
   ]
  },
  {
   "cell_type": "code",
   "execution_count": 72,
   "id": "f3e2d1db",
   "metadata": {},
   "outputs": [],
   "source": [
    "# Convert the wide format DataFrame 'df3' to a stacked (long) format using the stack() function.\n",
    "# This reshapes the DataFrame by pivoting the time period columns into a single column, \n",
    "# with each coin having multiple rows corresponding to each time period.\n",
    "df4 = df3.stack()\n",
    "\n",
    "# Display the resulting stacked DataFrame 'df4' to view the reshaped data.\n",
    "df4"
   ]
  },
  {
   "cell_type": "code",
   "execution_count": 73,
   "id": "2ef8ee34",
   "metadata": {},
   "outputs": [],
   "source": [
    "# Check and display the type of the DataFrame 'df4'\n",
    "# This is useful to confirm that the DataFrame has been converted to a stacked format (usually a pandas Series or DataFrame)\n",
    "type(df4)"
   ]
  },
  {
   "cell_type": "code",
   "execution_count": 74,
   "id": "4b7b94bf",
   "metadata": {},
   "outputs": [],
   "source": [
    "# Convert the stacked Series 'df4' back into a DataFrame and rename the column as 'values'\n",
    "# This makes the stacked data easier to work with as a DataFrame, with a single 'values' column representing the data\n",
    "df5 = df4.to_frame(name='values')\n",
    "\n",
    "# Display the newly created DataFrame 'df5' with the 'values' column\n",
    "df5"
   ]
  },
  {
   "cell_type": "code",
   "execution_count": 75,
   "id": "b8125368",
   "metadata": {},
   "outputs": [],
   "source": [
    "# Count the number of non-null entries in each column of the DataFrame 'df5'\n",
    "# This is useful to check how many data points (rows) are present in the DataFrame\n",
    "df5.count()"
   ]
  },
  {
   "cell_type": "code",
   "execution_count": 76,
   "id": "fc6ade71",
   "metadata": {},
   "outputs": [],
   "source": [
    "# Because of how it's structured above, we need to set an index for the DataFrame.\n",
    "# I don't want to use an existing column as the index, so I'm creating a range of values to pass as the index.\n",
    "# You can make this more dynamic, but for now, I'll hard code a range of 90.\n",
    "\n",
    "index = pd.Index(range(90))\n",
    "\n",
    "# Set the newly created Index object as the index of the DataFrame 'df5'\n",
    "# The set_index() function allows replacing the current index with the provided 'index'\n",
    "df6 = df5.set_index(index)\n",
    "\n",
    "# Display the DataFrame 'df6' with the updated index\n",
    "df6\n",
    "\n",
    "# If the DataFrame only has the index and 'values' column, you can reset the index to bring it back to a default range\n",
    "# by using df5.reset_index(). This can be useful if the index structure doesn't work as intended."
   ]
  },
  {
   "cell_type": "code",
   "execution_count": 77,
   "id": "7d13cd4d",
   "metadata": {},
   "outputs": [],
   "source": [
    "# Change the column name from 'level_1' to 'percent_change'\n",
    "# The rename() function is used to update the column names of the DataFrame for clarity\n",
    "# 'level_1' likely represents the time periods from the stacking operation, and we're renaming it to 'percent_change'\n",
    "\n",
    "df7 = df6.rename(columns={'level_1': 'percent_change'})\n",
    "\n",
    "# Display the updated DataFrame 'df7' with the renamed column\n",
    "df7"
   ]
  },
  {
   "cell_type": "code",
   "execution_count": 78,
   "id": "a72480a3",
   "metadata": {},
   "outputs": [],
   "source": [
    "# Replace the longer column values for 'percent_change' with shorter, more readable labels.\n",
    "# The replace() function is used to substitute specific text in the 'percent_change' column.\n",
    "# It replaces 'quote.USD.percent_change_24h', 'quote.USD.percent_change_7d', etc., with simpler '24h', '7d', '30d', '60d', and '90d'.\n",
    "# This improves readability and makes the DataFrame easier to work with.\n",
    "\n",
    "df7['percent_change'] = df7['percent_change'].replace(\n",
    "    ['quote.USD.percent_change_24h', 'quote.USD.percent_change_7d', 'quote.USD.percent_change_30d', 'quote.USD.percent_change_60d', 'quote.USD.percent_change_90d'],\n",
    "    ['24h', '7d', '30d', '60d', '90d']\n",
    ")\n",
    "\n",
    "# Display the updated DataFrame 'df7' with the shortened percent change labels\n",
    "df7"
   ]
  },
  {
   "cell_type": "code",
   "execution_count": 47,
   "id": "16a3121f",
   "metadata": {},
   "outputs": [],
   "source": [
    "# Import the seaborn library, which is built on top of matplotlib, for creating informative and attractive statistical graphics\n",
    "import seaborn as sns\n",
    "\n",
    "# Import matplotlib's pyplot module for creating visualizations such as plots and charts\n",
    "import matplotlib.pyplot as plt"
   ]
  },
  {
   "cell_type": "code",
   "execution_count": 79,
   "id": "c287a308",
   "metadata": {},
   "outputs": [],
   "source": [
    "# Create a categorical plot using seaborn's catplot() function to visualize the relationship between 'percent_change' and 'values'.\n",
    "# 'x' represents the time periods ('percent_change'), 'y' represents the values (percent change over time), and 'hue' distinguishes the data by cryptocurrency name ('name').\n",
    "# 'kind='point'' specifies that the plot will be a point plot, showing the average values with a point for each category.\n",
    "\n",
    "sns.catplot(x='percent_change', y='values', hue='name', data=df7, kind='point')"
   ]
  },
  {
   "cell_type": "code",
   "execution_count": 80,
   "id": "2915d494",
   "metadata": {},
   "outputs": [],
   "source": [
    "# Now to do something much simpler\n",
    "# We are going to create a new DataFrame with only the columns we want to focus on: 'name', 'quote.USD.price', and 'timestamp'\n",
    "\n",
    "df10 = df[['name', 'quote.USD.price', 'timestamp']]\n",
    "\n",
    "# Filter the DataFrame to include only the rows where the cryptocurrency 'name' is 'Bitcoin'.\n",
    "# The query() function is used to filter the DataFrame based on the condition provided.\n",
    "\n",
    "df10 = df10.query(\"name == 'Bitcoin'\")\n",
    "\n",
    "# Display the filtered DataFrame 'df10', which now contains only the Bitcoin data.\n",
    "df10"
   ]
  },
  {
   "cell_type": "code",
   "execution_count": 81,
   "id": "ae8459af",
   "metadata": {},
   "outputs": [],
   "source": [
    "# Set the visual theme for the seaborn plots. 'darkgrid' adds a dark background with gridlines, \n",
    "# making the plot more visually appealing and easier to read.\n",
    "\n",
    "sns.set_theme(style=\"darkgrid\")\n",
    "\n",
    "# Create a line plot using seaborn's lineplot() function.\n",
    "# The x-axis represents 'timestamp' (time), and the y-axis represents 'quote.USD.price' (Bitcoin price in USD).\n",
    "# The data used for the plot is the filtered DataFrame 'df10', which contains only Bitcoin data.\n",
    "# This plot shows how the price of Bitcoin has changed over time.\n",
    "\n",
    "sns.lineplot(x='timestamp', y='quote.USD.price', data=df10)"
   ]
  },
  {
   "cell_type": "code",
   "execution_count": null,
   "id": "db10f9de",
   "metadata": {},
   "outputs": [],
   "source": []
  }
 ],
 "metadata": {
  "kernelspec": {
   "display_name": "Python 3",
   "language": "python",
   "name": "python3"
  },
  "language_info": {
   "codemirror_mode": {
    "name": "ipython",
    "version": 3
   },
   "file_extension": ".py",
   "mimetype": "text/x-python",
   "name": "python",
   "nbconvert_exporter": "python",
   "pygments_lexer": "ipython3",
   "version": "3.8.8"
  }
 },
 "nbformat": 4,
 "nbformat_minor": 5
}
