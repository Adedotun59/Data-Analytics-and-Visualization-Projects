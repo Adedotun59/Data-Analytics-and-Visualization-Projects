{
 "cells": [
  {
   "cell_type": "code",
   "execution_count": 1,
   "id": "f236cbb9",
   "metadata": {},
   "outputs": [],
   "source": [
    "# Importing necessary libraries\n",
    "\n",
    "from bs4 import BeautifulSoup  # For parsing HTML and XML documents, typically used for web scraping\n",
    "import requests  # For sending HTTP requests and receiving responses, often used to interact with websites\n",
    "import time  # For time-related functions, such as pauses or timestamps\n",
    "import datetime  # For handling date and time-related operations\n",
    "import smtplib  # For sending emails using the Simple Mail Transfer Protocol (SMTP)"
   ]
  },
  {
   "cell_type": "code",
   "execution_count": 16,
   "id": "9b531b61",
   "metadata": {},
   "outputs": [
    {
     "name": "stdout",
     "output_type": "stream",
     "text": [
      "\n",
      "                   Funny Got Data MIS Data Systems Business Analyst T-Shirt\n",
      "                  \n",
      "\n",
      "                    $16.99\n",
      "                   \n"
     ]
    }
   ],
   "source": [
    "# Connect to Website and pull in data\n",
    "\n",
    "URL = 'https://www.amazon.com/Funny-Data-Systems-Business-Analyst/dp/B07FNW9FGJ/ref=sr_1_3?dchild=1&keywords=data%2Banalyst%2Btshirt&qid=1626655184&sr=8-3&customId=B0752XJYNL&th=1'\n",
    "# URL of the product page on Amazon\n",
    "\n",
    "headers = {\n",
    "    \"User-Agent\": \"Mozilla/5.0 (Windows NT 10.0; Win64; x64) AppleWebKit/537.36 (KHTML, like Gecko) Chrome/78.0.3904.108 Safari/537.36\",\n",
    "    \"Accept-Encoding\": \"gzip, deflate\",  # Accept compressed content\n",
    "    \"Accept\": \"text/html,application/xhtml+xml,application/xml;q=0.9,*/*;q=0.8\",  # Specify content types the client can handle\n",
    "    \"DNT\": \"1\",  # Do Not Track request header\n",
    "    \"Connection\": \"close\",  # Close the connection after the response\n",
    "    \"Upgrade-Insecure-Requests\": \"1\"  # Request to upgrade to secure requests if available\n",
    "}\n",
    "\n",
    "# Send HTTP request to the website and retrieve the page content\n",
    "page = requests.get(URL, headers=headers)\n",
    "\n",
    "# Parse the page content using BeautifulSoup\n",
    "soup1 = BeautifulSoup(page.content, \"html.parser\")\n",
    "\n",
    "# Reformat the parsed content for better readability\n",
    "soup2 = BeautifulSoup(soup1.prettify(), \"html.parser\")\n",
    "\n",
    "# Extract product title\n",
    "title = soup2.find(id='productTitle').get_text()\n",
    "\n",
    "# Extract product price\n",
    "price = soup2.find(id='priceblock_ourprice').get_text()\n",
    "\n",
    "# Print the extracted title and price\n",
    "print(title)\n",
    "print(price)\n",
    "\n",
    "\n"
   ]
  },
  {
   "cell_type": "code",
   "execution_count": 17,
   "id": "b6f7d66e",
   "metadata": {},
   "outputs": [
    {
     "name": "stdout",
     "output_type": "stream",
     "text": [
      "Funny Got Data MIS Data Systems Business Analyst T-Shirt\n",
      "16.99\n"
     ]
    }
   ],
   "source": [
    "# Clean up the data a little bit\n",
    "\n",
    "# Remove any leading or trailing whitespace from the price and remove the currency symbol (assumes the first character is the symbol)\n",
    "price = price.strip()[1:]\n",
    "\n",
    "# Remove any leading or trailing whitespace from the title\n",
    "title = title.strip()\n",
    "\n",
    "# Print the cleaned title and price\n",
    "print(title)\n",
    "print(price)"
   ]
  },
  {
   "cell_type": "code",
   "execution_count": 21,
   "id": "4f021c23",
   "metadata": {},
   "outputs": [
    {
     "name": "stdout",
     "output_type": "stream",
     "text": [
      "2021-08-21\n"
     ]
    }
   ],
   "source": [
    "# Create a Timestamp for your output to track when data was collected\n",
    "\n",
    "import datetime  # Import the datetime module for working with date and time\n",
    "\n",
    "# Get today's date using the date function and assign it to the variable 'today'\n",
    "today = datetime.date.today()\n",
    "\n",
    "# Print the current date\n",
    "print(today)\n"
   ]
  },
  {
   "cell_type": "code",
   "execution_count": 22,
   "id": "14d703ca",
   "metadata": {},
   "outputs": [],
   "source": [
    "# Create CSV and write headers and data into the file\n",
    "\n",
    "import csv  # Import the csv module to handle writing to CSV files\n",
    "\n",
    "# Define the headers for the CSV file\n",
    "header = ['Title', 'Price', 'Date']\n",
    "\n",
    "# Store the scraped data (title, price, and date) in a list\n",
    "data = [title, price, today]\n",
    "\n",
    "# Open a new CSV file in write mode ('w'), with UTF-8 encoding and no extra newline characters\n",
    "with open('AmazonWebScraperDataset.csv', 'w', newline='', encoding='UTF8') as f:\n",
    "    writer = csv.writer(f)  # Create a CSV writer object\n",
    "    \n",
    "    # Write the header row (column names) to the CSV file\n",
    "    writer.writerow(header)\n",
    "    \n",
    "    # Write the scraped data as a new row in the CSV file\n",
    "    writer.writerow(data)\n",
    "    \n"
   ]
  },
  {
   "cell_type": "code",
   "execution_count": null,
   "id": "d07eeb86",
   "metadata": {},
   "outputs": [],
   "source": [
    "# Import pandas library for data manipulation and analysis\n",
    "import pandas as pd\n",
    "\n",
    "# Read the CSV file into a pandas DataFrame for easier handling and analysis of the data\n",
    "df = pd.read_csv(r'C:\\Users\\alexf\\AmazonWebScraperDataset.csv')\n",
    "\n",
    "# Print the content of the DataFrame to display the scraped data\n",
    "print(df)\n"
   ]
  },
  {
   "cell_type": "code",
   "execution_count": 29,
   "id": "6b05c1eb",
   "metadata": {},
   "outputs": [],
   "source": [
    "# Now we are appending data to the CSV\n",
    "\n",
    "# Open the CSV file in append mode ('a+') to add new data without overwriting existing content\n",
    "with open('AmazonWebScraperDataset.csv', 'a+', newline='', encoding='UTF8') as f:\n",
    "    writer = csv.writer(f)  # Create a CSV writer object\n",
    "    \n",
    "    # Append the new scraped data as a new row in the CSV file\n",
    "    writer.writerow(data)"
   ]
  },
  {
   "cell_type": "code",
   "execution_count": 31,
   "id": "8e95b9e0",
   "metadata": {},
   "outputs": [],
   "source": [
    "# Combine all of the above code into one function\n",
    "\n",
    "def check_price():\n",
    "    # Define the URL of the Amazon product page to scrape\n",
    "    URL = 'https://www.amazon.com/Funny-Data-Systems-Business-Analyst/dp/B07FNW9FGJ/ref=sr_1_3?dchild=1&keywords=data%2Banalyst%2Btshirt&qid=1626655184&sr=8-3&customId=B0752XJYNL&th=1'\n",
    "\n",
    "    # Set the headers to mimic a legitimate browser request (helps avoid bot detection)\n",
    "    headers = {\n",
    "        \"User-Agent\": \"Mozilla/5.0 (Windows NT 10.0; Win64; x64) AppleWebKit/537.36 (KHTML, like Gecko) Chrome/78.0.3904.108 Safari/537.36\",\n",
    "        \"Accept-Encoding\": \"gzip, deflate\", \n",
    "        \"Accept\": \"text/html,application/xhtml+xml,application/xml;q=0.9,*/*;q=0.8\",\n",
    "        \"DNT\": \"1\",  # Do Not Track request header\n",
    "        \"Connection\": \"close\", \n",
    "        \"Upgrade-Insecure-Requests\": \"1\"\n",
    "    }\n",
    "\n",
    "    # Send the request to the Amazon product page\n",
    "    page = requests.get(URL, headers=headers)\n",
    "\n",
    "    # Parse the page content using BeautifulSoup\n",
    "    soup1 = BeautifulSoup(page.content, \"html.parser\")\n",
    "\n",
    "    # Prettify the parsed content and re-parse it for easier manipulation\n",
    "    soup2 = BeautifulSoup(soup1.prettify(), \"html.parser\")\n",
    "\n",
    "    # Extract the product title and price from the page\n",
    "    title = soup2.find(id='productTitle').get_text()\n",
    "    price = soup2.find(id='priceblock_ourprice').get_text()\n",
    "\n",
    "    # Clean up the price and title by removing unnecessary whitespace and the currency symbol\n",
    "    price = price.strip()[1:]\n",
    "    title = title.strip()\n",
    "\n",
    "    # Get the current date to timestamp the data\n",
    "    import datetime\n",
    "    today = datetime.date.today()\n",
    "\n",
    "    # Define the header for the CSV file and the data to be written (title, price, date)\n",
    "    import csv\n",
    "    header = ['Title', 'Price', 'Date']\n",
    "    data = [title, price, today]\n",
    "\n",
    "    # Open the CSV file in append mode and write the new data to it\n",
    "    with open('AmazonWebScraperDataset.csv', 'a+', newline='', encoding='UTF8') as f:\n",
    "        writer = csv.writer(f)\n",
    "        writer.writerow(data)"
   ]
  },
  {
   "cell_type": "code",
   "execution_count": null,
   "id": "c72f2c4e",
   "metadata": {},
   "outputs": [],
   "source": [
    "# Runs check_price after a set time and inputs data into your CSV\n",
    "\n",
    "# Infinite loop to run the check_price function at regular intervals\n",
    "while(True):\n",
    "    check_price()  # Call the function to scrape the data and append it to the CSV file\n",
    "    \n",
    "    # Pause execution for 86400 seconds (24 hours) before running the function again\n",
    "    time.sleep(86400)"
   ]
  },
  {
   "cell_type": "code",
   "execution_count": null,
   "id": "00af7126",
   "metadata": {},
   "outputs": [],
   "source": [
    "# Import pandas library for data analysis and manipulation\n",
    "import pandas as pd\n",
    "\n",
    "# Read the CSV file containing scraped data into a pandas DataFrame for easier analysis and manipulation\n",
    "df = pd.read_csv(r'C:\\Users\\alexf\\AmazonWebScraperDataset.csv')\n",
    "\n",
    "# Print the content of the DataFrame to view the scraped data\n",
    "print(df)"
   ]
  },
  {
   "cell_type": "code",
   "execution_count": null,
   "id": "d14fce5f",
   "metadata": {},
   "outputs": [],
   "source": [
    "# If you want to try sending yourself an email (just for fun) when a price hits below a certain level, \n",
    "# you can try it out with this script\n",
    "\n",
    "def send_mail():\n",
    "    # Establish a secure connection to the Gmail SMTP server using SSL on port 465\n",
    "    server = smtplib.SMTP_SSL('smtp.gmail.com', 465)\n",
    "    \n",
    "    # Identify the client to the server (EHLO is an extended version of HELO command)\n",
    "    server.ehlo()\n",
    "    \n",
    "    # (Optional) Start TLS encryption - it's commented out here because SSL is already being used\n",
    "    # server.starttls()\n",
    "\n",
    "    # Identify the client again (good practice, though often optional after starttls)\n",
    "    server.ehlo()\n",
    "\n",
    "    # Log in to the Gmail account using the provided email and password (replace 'xxxxxxxxxxxxxx' with the actual password)\n",
    "    server.login('AlexTheAnalyst95@gmail.com', 'xxxxxxxxxxxxxx')\n",
    "\n",
    "    # Define the subject and body of the email\n",
    "    subject = \"The Shirt you want is below $15! Now is your chance to buy!\"\n",
    "    body = (\"Alex, This is the moment we have been waiting for. \"\n",
    "            \"Now is your chance to pick up the shirt of your dreams. Don't mess it up! \"\n",
    "            \"Link here: https://www.amazon.com/Funny-Data-Systems-Business-Analyst/dp/B07FNW9FGJ/ref=sr_1_3?\"\n",
    "            \"dchild=1&keywords=data+analyst+tshirt&qid=1626655184&sr=8-3\")\n",
    "\n",
    "    # Create the email message by combining subject and body\n",
    "    msg = f\"Subject: {subject}\\n\\n{body}\"\n",
    "\n",
    "    # Send the email from the specified Gmail account to the same account (can be changed)\n",
    "    server.sendmail(\n",
    "        'AlexTheAnalyst95@gmail.com',  # Sender's email\n",
    "        'AlexTheAnalyst95@gmail.com',  # Recipient's email\n",
    "        msg  # The message content including subject and body\n",
    "    )\n",
    "\n",
    "    # Close the connection to the SMTP server\n",
    "    server.quit()"
   ]
  }
 ],
 "metadata": {
  "kernelspec": {
   "display_name": "Python 3",
   "language": "python",
   "name": "python3"
  },
  "language_info": {
   "codemirror_mode": {
    "name": "ipython",
    "version": 3
   },
   "file_extension": ".py",
   "mimetype": "text/x-python",
   "name": "python",
   "nbconvert_exporter": "python",
   "pygments_lexer": "ipython3",
   "version": "3.8.8"
  }
 },
 "nbformat": 4,
 "nbformat_minor": 5
}
